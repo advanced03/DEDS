{
 "cells": [
  {
   "cell_type": "markdown",
   "metadata": {},
   "source": [
    "# Imports (Frequent Itemsets)\n"
   ]
  },
  {
   "cell_type": "code",
   "execution_count": 7,
   "metadata": {},
   "outputs": [],
   "source": [
    "import sqlite3\n",
    "import pandas as pd\n",
    "from mlxtend.preprocessing import TransactionEncoder\n",
    "from mlxtend.frequent_patterns import apriori"
   ]
  },
  {
   "cell_type": "code",
   "execution_count": 8,
   "metadata": {},
   "outputs": [],
   "source": [
    "db_connection = sqlite3.connect(\"go_sales.sqlite\")\n",
    "sql_query = \"SELECT * FROM PRODUCT;\"\n",
    "lol = pd.read_sql_query(sql_query, db_connection)\n",
    "sql_query = \"SELECT * FROM ORDER_DETAILS;\"\n",
    "lol2 = pd.read_sql_query(sql_query, db_connection)\n",
    "\n"
   ]
  },
  {
   "cell_type": "code",
   "execution_count": 9,
   "metadata": {},
   "outputs": [],
   "source": [
    "merged = pd.merge(lol, lol2, on=\"PRODUCT_NUMBER\", how=\"left\")"
   ]
  },
  {
   "cell_type": "code",
   "execution_count": 10,
   "metadata": {},
   "outputs": [
    {
     "data": {
      "text/html": [
       "<div>\n",
       "<style scoped>\n",
       "    .dataframe tbody tr th:only-of-type {\n",
       "        vertical-align: middle;\n",
       "    }\n",
       "\n",
       "    .dataframe tbody tr th {\n",
       "        vertical-align: top;\n",
       "    }\n",
       "\n",
       "    .dataframe thead th {\n",
       "        text-align: right;\n",
       "    }\n",
       "</style>\n",
       "<table border=\"1\" class=\"dataframe\">\n",
       "  <thead>\n",
       "    <tr style=\"text-align: right;\">\n",
       "      <th></th>\n",
       "      <th>ORDER_NUMBER</th>\n",
       "      <th>PRODUCT_NAME</th>\n",
       "      <th>QUANTITY</th>\n",
       "    </tr>\n",
       "  </thead>\n",
       "  <tbody>\n",
       "    <tr>\n",
       "      <th>0</th>\n",
       "      <td>8474</td>\n",
       "      <td>TrailChef Water Bag</td>\n",
       "      <td>40</td>\n",
       "    </tr>\n",
       "    <tr>\n",
       "      <th>1</th>\n",
       "      <td>8470</td>\n",
       "      <td>TrailChef Water Bag</td>\n",
       "      <td>40</td>\n",
       "    </tr>\n",
       "    <tr>\n",
       "      <th>2</th>\n",
       "      <td>8464</td>\n",
       "      <td>TrailChef Water Bag</td>\n",
       "      <td>48</td>\n",
       "    </tr>\n",
       "    <tr>\n",
       "      <th>3</th>\n",
       "      <td>9254</td>\n",
       "      <td>TrailChef Water Bag</td>\n",
       "      <td>66</td>\n",
       "    </tr>\n",
       "    <tr>\n",
       "      <th>4</th>\n",
       "      <td>8472</td>\n",
       "      <td>TrailChef Water Bag</td>\n",
       "      <td>88</td>\n",
       "    </tr>\n",
       "    <tr>\n",
       "      <th>...</th>\n",
       "      <td>...</td>\n",
       "      <td>...</td>\n",
       "      <td>...</td>\n",
       "    </tr>\n",
       "    <tr>\n",
       "      <th>43058</th>\n",
       "      <td>8210</td>\n",
       "      <td>Aloe Relief</td>\n",
       "      <td>30</td>\n",
       "    </tr>\n",
       "    <tr>\n",
       "      <th>43059</th>\n",
       "      <td>8246</td>\n",
       "      <td>Aloe Relief</td>\n",
       "      <td>20</td>\n",
       "    </tr>\n",
       "    <tr>\n",
       "      <th>43060</th>\n",
       "      <td>8239</td>\n",
       "      <td>Aloe Relief</td>\n",
       "      <td>18</td>\n",
       "    </tr>\n",
       "    <tr>\n",
       "      <th>43061</th>\n",
       "      <td>8270</td>\n",
       "      <td>Aloe Relief</td>\n",
       "      <td>26</td>\n",
       "    </tr>\n",
       "    <tr>\n",
       "      <th>43062</th>\n",
       "      <td>8328</td>\n",
       "      <td>Aloe Relief</td>\n",
       "      <td>28</td>\n",
       "    </tr>\n",
       "  </tbody>\n",
       "</table>\n",
       "<p>43063 rows × 3 columns</p>\n",
       "</div>"
      ],
      "text/plain": [
       "      ORDER_NUMBER         PRODUCT_NAME  QUANTITY\n",
       "0             8474  TrailChef Water Bag        40\n",
       "1             8470  TrailChef Water Bag        40\n",
       "2             8464  TrailChef Water Bag        48\n",
       "3             9254  TrailChef Water Bag        66\n",
       "4             8472  TrailChef Water Bag        88\n",
       "...            ...                  ...       ...\n",
       "43058         8210          Aloe Relief        30\n",
       "43059         8246          Aloe Relief        20\n",
       "43060         8239          Aloe Relief        18\n",
       "43061         8270          Aloe Relief        26\n",
       "43062         8328          Aloe Relief        28\n",
       "\n",
       "[43063 rows x 3 columns]"
      ]
     },
     "execution_count": 10,
     "metadata": {},
     "output_type": "execute_result"
    }
   ],
   "source": [
    "merged_skimmed = merged.loc[:, [\"ORDER_NUMBER\", \"PRODUCT_NAME\", \"QUANTITY\"]]\n",
    "merged_skimmed"
   ]
  },
  {
   "cell_type": "code",
   "execution_count": 11,
   "metadata": {},
   "outputs": [
    {
     "name": "stdout",
     "output_type": "stream",
     "text": [
      "   Aloe Relief  Bear Edge  Bear Survival Edge  Blue Steel Max Putter  \\\n",
      "0        False      False               False                  False   \n",
      "1        False      False               False                  False   \n",
      "2        False      False               False                  False   \n",
      "3        False      False               False                  False   \n",
      "4        False      False               False                  False   \n",
      "\n",
      "   Blue Steel Putter  BugShield Extreme  BugShield Lotion  \\\n",
      "0              False               True             False   \n",
      "1              False              False             False   \n",
      "2              False               True             False   \n",
      "3              False              False             False   \n",
      "4              False              False              True   \n",
      "\n",
      "   BugShield Lotion Lite  BugShield Natural  BugShield Spray  ...  \\\n",
      "0                  False              False            False  ...   \n",
      "1                  False              False            False  ...   \n",
      "2                  False               True             True  ...   \n",
      "3                  False              False            False  ...   \n",
      "4                   True              False            False  ...   \n",
      "\n",
      "   TrailChef Canteen  TrailChef Cook Set  TrailChef Cup  \\\n",
      "0              False               False          False   \n",
      "1              False               False          False   \n",
      "2              False               False          False   \n",
      "3              False               False          False   \n",
      "4               True               False          False   \n",
      "\n",
      "   TrailChef Deluxe Cook Set  TrailChef Double Flame  TrailChef Kettle  \\\n",
      "0                      False                   False             False   \n",
      "1                      False                   False              True   \n",
      "2                      False                   False              True   \n",
      "3                       True                    True              True   \n",
      "4                      False                   False             False   \n",
      "\n",
      "   TrailChef Kitchen Kit  TrailChef Single Flame  TrailChef Utensils  \\\n",
      "0                  False                   False               False   \n",
      "1                   True                   False               False   \n",
      "2                  False                   False                True   \n",
      "3                  False                   False               False   \n",
      "4                  False                   False               False   \n",
      "\n",
      "   TrailChef Water Bag  \n",
      "0                 True  \n",
      "1                 True  \n",
      "2                 True  \n",
      "3                 True  \n",
      "4                 True  \n",
      "\n",
      "[5 rows x 115 columns]\n"
     ]
    }
   ],
   "source": [
    "transactions = []\n",
    "\n",
    "for order_num in merged_skimmed[\"ORDER_NUMBER\"].unique():\n",
    "    products = merged_skimmed[merged_skimmed[\"ORDER_NUMBER\"] == order_num][\"PRODUCT_NAME\"].tolist()\n",
    "    transactions.append(products)\n",
    "\n",
    "te = TransactionEncoder()\n",
    "df_dummies = te.fit_transform(transactions)\n",
    "df = pd.DataFrame(df_dummies, columns=te.columns_)\n",
    "\n",
    "print(df.head())"
   ]
  },
  {
   "cell_type": "code",
   "execution_count": 12,
   "metadata": {},
   "outputs": [
    {
     "name": "stdout",
     "output_type": "stream",
     "text": [
      "       support                                           itemsets\n",
      "115   0.011381                   (BugShield Extreme, Aloe Relief)\n",
      "116   0.010075                         (Double Edge, Aloe Relief)\n",
      "117   0.013993                         (Aloe Relief, Sun Blocker)\n",
      "118   0.011194                      (Aloe Relief, Sun Shelter 15)\n",
      "119   0.015858                      (Aloe Relief, Sun Shelter 30)\n",
      "...        ...                                                ...\n",
      "1902  0.016978       (TrailChef Water Bag, TrailChef Kitchen Kit)\n",
      "1903  0.014552       (TrailChef Single Flame, TrailChef Utensils)\n",
      "1904  0.012313      (TrailChef Single Flame, TrailChef Water Bag)\n",
      "1905  0.015672          (TrailChef Water Bag, TrailChef Utensils)\n",
      "1906  0.010448  (Lady Hailstorm Titanium Irons, Blue Steel Max...\n",
      "\n",
      "[1792 rows x 2 columns]\n"
     ]
    }
   ],
   "source": [
    "frq_items1 = apriori(df, min_support=0.01, use_colnames=True)\n",
    "\n",
    "combinations = frq_items1[frq_items1['itemsets'].apply(lambda x: len(x)) > 1]\n",
    "\n",
    "print(combinations)"
   ]
  }
 ],
 "metadata": {
  "kernelspec": {
   "display_name": "Python 3",
   "language": "python",
   "name": "python3"
  },
  "language_info": {
   "codemirror_mode": {
    "name": "ipython",
    "version": 3
   },
   "file_extension": ".py",
   "mimetype": "text/x-python",
   "name": "python",
   "nbconvert_exporter": "python",
   "pygments_lexer": "ipython3",
   "version": "3.12.2"
  }
 },
 "nbformat": 4,
 "nbformat_minor": 2
}
