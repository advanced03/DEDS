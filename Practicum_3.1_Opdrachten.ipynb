{
 "cells": [
  {
   "cell_type": "markdown",
   "metadata": {},
   "source": [
    "**Lijst 1:** Quick sort\n"
   ]
  },
  {
   "cell_type": "code",
   "execution_count": 9,
   "metadata": {},
   "outputs": [
    {
     "name": "stdout",
     "output_type": "stream",
     "text": [
      "[2, 7, 14, 18, 20, 21, 30, 31, 39, 41, 43, 45, 54, 55, 58, 68, 79, 85, 86, 100]\n"
     ]
    }
   ],
   "source": [
    "lijst1 = [80, 78, 84, 5, 42, 56, 59, 71, 22, 2, 54, 64, 43, 98, 1, 39, 62, 81, 11, 21, 7]\n",
    "\n",
    "def quicksort(lijst1):\n",
    "    if len(lijst1) <= 1:\n",
    "        return lijst1\n",
    "    else:\n",
    "        pivot = lijst1[0]\n",
    "        less_than_pivot = [x for x in lijst1[1:] if x <= pivot]\n",
    "        greater_than_pivot = [x for x in lijst1[1:] if x > pivot]\n",
    "        return quicksort(less_than_pivot) + [pivot] + quicksort(greater_than_pivot)\n",
    "\n",
    "quicksort(lijst1)\n",
    "print(lijst1)"
   ]
  },
  {
   "cell_type": "markdown",
   "metadata": {},
   "source": [
    "\n",
    "**Lijst 2:** Selection sort"
   ]
  },
  {
   "cell_type": "code",
   "execution_count": 10,
   "metadata": {},
   "outputs": [],
   "source": [
    "lijst2 = [53,  38,  28,  84,  95,  79,  13,  54,  12,  33,  30,  70,  31,  86,  47,  51,  20,  18,  43,  98]"
   ]
  },
  {
   "cell_type": "code",
   "execution_count": 11,
   "metadata": {},
   "outputs": [
    {
     "name": "stdout",
     "output_type": "stream",
     "text": [
      "[12, 13, 18, 20, 28, 30, 31, 33, 38, 43, 47, 51, 53, 54, 70, 79, 84, 86, 95, 98]\n"
     ]
    }
   ],
   "source": [
    "def selectionSort(lijst2, size):\n",
    "\n",
    "    for s in range(size):\n",
    "        min_idx = s\n",
    "\n",
    "        for i in range(s + 1, size):\n",
    "\n",
    "            if lijst2[i] < lijst2[min_idx]:\n",
    "                min_idx = i\n",
    "\n",
    "        (lijst2[s], lijst2[min_idx]) = (lijst2[min_idx], lijst2[s])\n",
    "\n",
    "\n",
    "size = len(lijst2)\n",
    "selectionSort(lijst2, size)\n",
    "\n",
    "print(lijst2)\n"
   ]
  },
  {
   "cell_type": "markdown",
   "metadata": {},
   "source": [
    "\n",
    "**Lijst 3:** Insertion sort"
   ]
  },
  {
   "cell_type": "code",
   "execution_count": 12,
   "metadata": {},
   "outputs": [],
   "source": [
    "lijst3 = [62,  36,  16,  23,  35,  10,  61,  15,  68,  33,  56,  79,  74,  1,  83,  78,  7,  81,  45,  31]\n"
   ]
  },
  {
   "cell_type": "code",
   "execution_count": 14,
   "metadata": {},
   "outputs": [
    {
     "name": "stdout",
     "output_type": "stream",
     "text": [
      "[62, 36, 16, 23, 35, 10, 61, 15, 68, 33, 56, 79, 74, 1, 83, 78, 7, 81, 45, 31]\n"
     ]
    }
   ],
   "source": [
    "def insertion_sort(lijst3):\n",
    "\n",
    "    for i in range(1, len(lijst3)):\n",
    "\n",
    "        a = lijst3[i]\n",
    "\n",
    "        j = i - 1\n",
    "\n",
    "        while j >= 0 and a < lijst3[j]:\n",
    "            lijst3[j + 1] = lijst3[j]\n",
    "            j -= 1\n",
    "\n",
    "        lijst3[j + 1] = a\n",
    "\n",
    "    return lijst3\n",
    "\n",
    "\n",
    "print(lijst3)\n"
   ]
  }
 ],
 "metadata": {
  "kernelspec": {
   "display_name": "Python 3",
   "language": "python",
   "name": "python3"
  },
  "language_info": {
   "codemirror_mode": {
    "name": "ipython",
    "version": 3
   },
   "file_extension": ".py",
   "mimetype": "text/x-python",
   "name": "python",
   "nbconvert_exporter": "python",
   "pygments_lexer": "ipython3",
   "version": "3.12.2"
  }
 },
 "nbformat": 4,
 "nbformat_minor": 2
}
