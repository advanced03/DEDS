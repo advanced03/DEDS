{
 "cells": [
  {
   "cell_type": "markdown",
   "metadata": {},
   "source": [
    "# Practicumopdrachten Week 2.3 (eerste kans)"
   ]
  },
  {
   "cell_type": "markdown",
   "metadata": {},
   "source": [
    "## Dependencies importeren"
   ]
  },
  {
   "cell_type": "markdown",
   "metadata": {},
   "source": [
    "Kopieer in het codeblok hieronder van het vorige practicum de import-code voor de dependencies die het vaakst worden gebruikt om data in te lezen. Geef er ook de gebruikelijke aliassen aan.<br>\n",
    "Zet eventuele warnings uit."
   ]
  },
  {
   "cell_type": "code",
   "execution_count": 4,
   "metadata": {},
   "outputs": [
    {
     "name": "stderr",
     "output_type": "stream",
     "text": [
      "C:\\Users\\AdvancedGaming\\AppData\\Local\\Temp\\ipykernel_2520\\955563736.py:1: DeprecationWarning: \n",
      "Pyarrow will become a required dependency of pandas in the next major release of pandas (pandas 3.0),\n",
      "(to allow more performant data types, such as the Arrow string type, and better interoperability with other libraries)\n",
      "but was not found to be installed on your system.\n",
      "If this would cause problems for you,\n",
      "please provide us feedback at https://github.com/pandas-dev/pandas/issues/54466\n",
      "        \n",
      "  import pandas as pd\n"
     ]
    }
   ],
   "source": [
    "import pandas as pd\n",
    "import sqlite3\n",
    "import warnings\n",
    "warnings.simplefilter('ignore')"
   ]
  },
  {
   "cell_type": "markdown",
   "metadata": {},
   "source": [
    "Zet het bestand go_sales.sqlite in hetzelfde mapje als dit notebook."
   ]
  },
  {
   "cell_type": "markdown",
   "metadata": {},
   "source": [
    "## Databasetabellen inlezen"
   ]
  },
  {
   "cell_type": "markdown",
   "metadata": {},
   "source": [
    "Kopieer in het codeblok hieronder van het vorige practicum de code om een connectie met het bestand go_sales.sqlite te maken."
   ]
  },
  {
   "cell_type": "code",
   "execution_count": 5,
   "metadata": {},
   "outputs": [
    {
     "data": {
      "text/plain": [
       "<sqlite3.Connection at 0x16a0c0126b0>"
      ]
     },
     "execution_count": 5,
     "metadata": {},
     "output_type": "execute_result"
    }
   ],
   "source": [
    "con_sales = sqlite3.connect(\"go_sales.sqlite\")\n",
    "con_sales"
   ]
  },
  {
   "cell_type": "markdown",
   "metadata": {},
   "source": [
    "Lees van de ingelezen go_sales-database te volgende tabellen in met behulp van \"SELECT * FROM *tabel*\".\n",
    "- product\n",
    "- product_type\n",
    "- product_line\n",
    "- sales_staff\n",
    "- sales_branch\n",
    "- retailer_site\n",
    "- country\n",
    "- order_header\n",
    "- order_details\n",
    "- target\n",
    "- returned_item\n",
    "- return_reason"
   ]
  },
  {
   "cell_type": "code",
   "execution_count": 6,
   "metadata": {},
   "outputs": [
    {
     "data": {
      "text/html": [
       "<div>\n",
       "<style scoped>\n",
       "    .dataframe tbody tr th:only-of-type {\n",
       "        vertical-align: middle;\n",
       "    }\n",
       "\n",
       "    .dataframe tbody tr th {\n",
       "        vertical-align: top;\n",
       "    }\n",
       "\n",
       "    .dataframe thead th {\n",
       "        text-align: right;\n",
       "    }\n",
       "</style>\n",
       "<table border=\"1\" class=\"dataframe\">\n",
       "  <thead>\n",
       "    <tr style=\"text-align: right;\">\n",
       "      <th></th>\n",
       "      <th>name</th>\n",
       "    </tr>\n",
       "  </thead>\n",
       "  <tbody>\n",
       "    <tr>\n",
       "      <th>0</th>\n",
       "      <td>country</td>\n",
       "    </tr>\n",
       "    <tr>\n",
       "      <th>1</th>\n",
       "      <td>order_details</td>\n",
       "    </tr>\n",
       "    <tr>\n",
       "      <th>2</th>\n",
       "      <td>order_header</td>\n",
       "    </tr>\n",
       "    <tr>\n",
       "      <th>3</th>\n",
       "      <td>product</td>\n",
       "    </tr>\n",
       "    <tr>\n",
       "      <th>4</th>\n",
       "      <td>product_line</td>\n",
       "    </tr>\n",
       "    <tr>\n",
       "      <th>5</th>\n",
       "      <td>product_type</td>\n",
       "    </tr>\n",
       "    <tr>\n",
       "      <th>6</th>\n",
       "      <td>retailer_site</td>\n",
       "    </tr>\n",
       "    <tr>\n",
       "      <th>7</th>\n",
       "      <td>return_reason</td>\n",
       "    </tr>\n",
       "    <tr>\n",
       "      <th>8</th>\n",
       "      <td>returned_item</td>\n",
       "    </tr>\n",
       "    <tr>\n",
       "      <th>9</th>\n",
       "      <td>sales_branch</td>\n",
       "    </tr>\n",
       "    <tr>\n",
       "      <th>10</th>\n",
       "      <td>sales_staff</td>\n",
       "    </tr>\n",
       "    <tr>\n",
       "      <th>11</th>\n",
       "      <td>SALES_TARGETData</td>\n",
       "    </tr>\n",
       "  </tbody>\n",
       "</table>\n",
       "</div>"
      ],
      "text/plain": [
       "                name\n",
       "0            country\n",
       "1      order_details\n",
       "2       order_header\n",
       "3            product\n",
       "4       product_line\n",
       "5       product_type\n",
       "6      retailer_site\n",
       "7      return_reason\n",
       "8      returned_item\n",
       "9       sales_branch\n",
       "10       sales_staff\n",
       "11  SALES_TARGETData"
      ]
     },
     "execution_count": 6,
     "metadata": {},
     "output_type": "execute_result"
    }
   ],
   "source": [
    "sql_query = \"SELECT name FROM sqlite_master WHERE name='product' OR  name='product_type' OR  name='product_line' OR  name='sales_staff' OR  name='sales_branch' OR  name='retailer_site' OR  name='country' OR  name='order_header' OR  name='order_details' OR  name='SALES_TARGETData' OR  name='returned_item' OR  name='return_reason';\"\n",
    "pd.read_sql(sql_query, con_sales)"
   ]
  },
  {
   "cell_type": "markdown",
   "metadata": {},
   "source": [
    "Let op! Voor alle onderstaande opdrachten mag je <u>alleen Python</u> gebruiken, <u>geen SQL!</u>"
   ]
  },
  {
   "cell_type": "markdown",
   "metadata": {},
   "source": [
    "## Selecties op één tabel zonder functies"
   ]
  },
  {
   "cell_type": "markdown",
   "metadata": {},
   "source": [
    "Geef een overzicht met daarin de producten en hun productiekosten waarvan de productiekosten lager dan 100 dollar en hoger dan 50 dollar ligt. (2 kolommen, 23 rijen)"
   ]
  },
  {
   "cell_type": "code",
   "execution_count": 7,
   "metadata": {},
   "outputs": [
    {
     "data": {
      "text/html": [
       "<div>\n",
       "<style scoped>\n",
       "    .dataframe tbody tr th:only-of-type {\n",
       "        vertical-align: middle;\n",
       "    }\n",
       "\n",
       "    .dataframe tbody tr th {\n",
       "        vertical-align: top;\n",
       "    }\n",
       "\n",
       "    .dataframe thead th {\n",
       "        text-align: right;\n",
       "    }\n",
       "</style>\n",
       "<table border=\"1\" class=\"dataframe\">\n",
       "  <thead>\n",
       "    <tr style=\"text-align: right;\">\n",
       "      <th></th>\n",
       "      <th>PRODUCTION_COST</th>\n",
       "      <th>PRODUCT_NAME</th>\n",
       "    </tr>\n",
       "  </thead>\n",
       "  <tbody>\n",
       "    <tr>\n",
       "      <th>13</th>\n",
       "      <td>60.00</td>\n",
       "      <td>Blue Steel Putter</td>\n",
       "    </tr>\n",
       "    <tr>\n",
       "      <th>14</th>\n",
       "      <td>81.80</td>\n",
       "      <td>Blue Steel Max Putter</td>\n",
       "    </tr>\n",
       "    <tr>\n",
       "      <th>17</th>\n",
       "      <td>80.00</td>\n",
       "      <td>Course Pro Golf Bag</td>\n",
       "    </tr>\n",
       "    <tr>\n",
       "      <th>24</th>\n",
       "      <td>60.00</td>\n",
       "      <td>Hibernator Lite</td>\n",
       "    </tr>\n",
       "    <tr>\n",
       "      <th>25</th>\n",
       "      <td>86.00</td>\n",
       "      <td>Hibernator</td>\n",
       "    </tr>\n",
       "    <tr>\n",
       "      <th>28</th>\n",
       "      <td>78.55</td>\n",
       "      <td>Hibernator Self - Inflating Mat</td>\n",
       "    </tr>\n",
       "    <tr>\n",
       "      <th>31</th>\n",
       "      <td>65.33</td>\n",
       "      <td>Hibernator Camp Cot</td>\n",
       "    </tr>\n",
       "    <tr>\n",
       "      <th>32</th>\n",
       "      <td>62.50</td>\n",
       "      <td>Canyon Mule Climber Backpack</td>\n",
       "    </tr>\n",
       "    <tr>\n",
       "      <th>56</th>\n",
       "      <td>52.86</td>\n",
       "      <td>Granite Climbing Helmet</td>\n",
       "    </tr>\n",
       "    <tr>\n",
       "      <th>58</th>\n",
       "      <td>55.00</td>\n",
       "      <td>Husky Harness Extreme</td>\n",
       "    </tr>\n",
       "    <tr>\n",
       "      <th>69</th>\n",
       "      <td>57.13</td>\n",
       "      <td>Granite Hammer</td>\n",
       "    </tr>\n",
       "    <tr>\n",
       "      <th>71</th>\n",
       "      <td>85.11</td>\n",
       "      <td>TrailChef Deluxe Cook Set</td>\n",
       "    </tr>\n",
       "    <tr>\n",
       "      <th>81</th>\n",
       "      <td>73.33</td>\n",
       "      <td>Polar Ice</td>\n",
       "    </tr>\n",
       "    <tr>\n",
       "      <th>83</th>\n",
       "      <td>80.00</td>\n",
       "      <td>Polar Sports</td>\n",
       "    </tr>\n",
       "    <tr>\n",
       "      <th>84</th>\n",
       "      <td>60.00</td>\n",
       "      <td>Polar Wave</td>\n",
       "    </tr>\n",
       "    <tr>\n",
       "      <th>85</th>\n",
       "      <td>72.50</td>\n",
       "      <td>Polar Extreme</td>\n",
       "    </tr>\n",
       "    <tr>\n",
       "      <th>88</th>\n",
       "      <td>80.00</td>\n",
       "      <td>Edge Extreme</td>\n",
       "    </tr>\n",
       "    <tr>\n",
       "      <th>91</th>\n",
       "      <td>79.19</td>\n",
       "      <td>Seeker 35</td>\n",
       "    </tr>\n",
       "    <tr>\n",
       "      <th>92</th>\n",
       "      <td>92.58</td>\n",
       "      <td>Seeker 50</td>\n",
       "    </tr>\n",
       "    <tr>\n",
       "      <th>93</th>\n",
       "      <td>75.00</td>\n",
       "      <td>TrailChef Double Flame</td>\n",
       "    </tr>\n",
       "    <tr>\n",
       "      <th>94</th>\n",
       "      <td>94.12</td>\n",
       "      <td>Seeker Extreme</td>\n",
       "    </tr>\n",
       "    <tr>\n",
       "      <th>97</th>\n",
       "      <td>56.25</td>\n",
       "      <td>Glacier Deluxe</td>\n",
       "    </tr>\n",
       "    <tr>\n",
       "      <th>98</th>\n",
       "      <td>78.55</td>\n",
       "      <td>Glacier GPS</td>\n",
       "    </tr>\n",
       "  </tbody>\n",
       "</table>\n",
       "</div>"
      ],
      "text/plain": [
       "    PRODUCTION_COST                     PRODUCT_NAME\n",
       "13            60.00                Blue Steel Putter\n",
       "14            81.80            Blue Steel Max Putter\n",
       "17            80.00              Course Pro Golf Bag\n",
       "24            60.00                  Hibernator Lite\n",
       "25            86.00                       Hibernator\n",
       "28            78.55  Hibernator Self - Inflating Mat\n",
       "31            65.33              Hibernator Camp Cot\n",
       "32            62.50     Canyon Mule Climber Backpack\n",
       "56            52.86          Granite Climbing Helmet\n",
       "58            55.00            Husky Harness Extreme\n",
       "69            57.13                   Granite Hammer\n",
       "71            85.11        TrailChef Deluxe Cook Set\n",
       "81            73.33                        Polar Ice\n",
       "83            80.00                     Polar Sports\n",
       "84            60.00                       Polar Wave\n",
       "85            72.50                    Polar Extreme\n",
       "88            80.00                     Edge Extreme\n",
       "91            79.19                        Seeker 35\n",
       "92            92.58                        Seeker 50\n",
       "93            75.00           TrailChef Double Flame\n",
       "94            94.12                   Seeker Extreme\n",
       "97            56.25                   Glacier Deluxe\n",
       "98            78.55                      Glacier GPS"
      ]
     },
     "execution_count": 7,
     "metadata": {},
     "output_type": "execute_result"
    }
   ],
   "source": [
    "product = pd.DataFrame(pd.read_sql_query('SELECT * from product', con_sales))\n",
    "product['PRODUCTION_COST'] = product['PRODUCTION_COST'].astype(float)\n",
    "product100 = product[\"PRODUCTION_COST\"] < 100\n",
    "product50 = product[\"PRODUCTION_COST\"] > 50\n",
    "filtered_product = product100 & product50\n",
    "product.loc[(filtered_product), ('PRODUCTION_COST', 'PRODUCT_NAME')]"
   ]
  },
  {
   "cell_type": "markdown",
   "metadata": {},
   "source": [
    "Geef een overzicht met daarin de producten en hun marge waarvan de marge lager dan 20 % of hoger dan 60 % ligt. (2 kolommen, 7 rijen) "
   ]
  },
  {
   "cell_type": "code",
   "execution_count": 8,
   "metadata": {},
   "outputs": [
    {
     "data": {
      "text/html": [
       "<div>\n",
       "<style scoped>\n",
       "    .dataframe tbody tr th:only-of-type {\n",
       "        vertical-align: middle;\n",
       "    }\n",
       "\n",
       "    .dataframe tbody tr th {\n",
       "        vertical-align: top;\n",
       "    }\n",
       "\n",
       "    .dataframe thead th {\n",
       "        text-align: right;\n",
       "    }\n",
       "</style>\n",
       "<table border=\"1\" class=\"dataframe\">\n",
       "  <thead>\n",
       "    <tr style=\"text-align: right;\">\n",
       "      <th></th>\n",
       "      <th>PRODUCT_NAME</th>\n",
       "      <th>MARGIN</th>\n",
       "    </tr>\n",
       "  </thead>\n",
       "  <tbody>\n",
       "    <tr>\n",
       "      <th>29</th>\n",
       "      <td>Hibernator Pad</td>\n",
       "      <td>0.17</td>\n",
       "    </tr>\n",
       "    <tr>\n",
       "      <th>32</th>\n",
       "      <td>Canyon Mule Climber Backpack</td>\n",
       "      <td>0.17</td>\n",
       "    </tr>\n",
       "    <tr>\n",
       "      <th>100</th>\n",
       "      <td>BugShield Natural</td>\n",
       "      <td>0.67</td>\n",
       "    </tr>\n",
       "    <tr>\n",
       "      <th>101</th>\n",
       "      <td>BugShield Spray</td>\n",
       "      <td>0.67</td>\n",
       "    </tr>\n",
       "    <tr>\n",
       "      <th>102</th>\n",
       "      <td>BugShield Lotion Lite</td>\n",
       "      <td>0.70</td>\n",
       "    </tr>\n",
       "    <tr>\n",
       "      <th>103</th>\n",
       "      <td>BugShield Lotion</td>\n",
       "      <td>0.63</td>\n",
       "    </tr>\n",
       "    <tr>\n",
       "      <th>105</th>\n",
       "      <td>BugShield Extreme</td>\n",
       "      <td>0.63</td>\n",
       "    </tr>\n",
       "  </tbody>\n",
       "</table>\n",
       "</div>"
      ],
      "text/plain": [
       "                     PRODUCT_NAME  MARGIN\n",
       "29                 Hibernator Pad    0.17\n",
       "32   Canyon Mule Climber Backpack    0.17\n",
       "100             BugShield Natural    0.67\n",
       "101               BugShield Spray    0.67\n",
       "102         BugShield Lotion Lite    0.70\n",
       "103              BugShield Lotion    0.63\n",
       "105             BugShield Extreme    0.63"
      ]
     },
     "execution_count": 8,
     "metadata": {},
     "output_type": "execute_result"
    }
   ],
   "source": [
    "margin = pd.DataFrame(pd.read_sql_query('SELECT product_name, margin from product', con_sales))\n",
    "margin['MARGIN'] = margin['MARGIN'].astype(float)\n",
    "margin60 = margin[\"MARGIN\"] < 0.2\n",
    "margin20 = margin[\"MARGIN\"] > 0.6\n",
    "filtered_margin = margin20 | margin60\n",
    "margin.loc[(filtered_margin), :]"
   ]
  },
  {
   "cell_type": "markdown",
   "metadata": {},
   "source": [
    "Geef een overzicht met daarin de landen waar met francs wordt betaald. Sorteer de uitkomst op land.  (1 kolom, 3 rijen)"
   ]
  },
  {
   "cell_type": "code",
   "execution_count": 9,
   "metadata": {},
   "outputs": [
    {
     "data": {
      "text/html": [
       "<div>\n",
       "<style scoped>\n",
       "    .dataframe tbody tr th:only-of-type {\n",
       "        vertical-align: middle;\n",
       "    }\n",
       "\n",
       "    .dataframe tbody tr th {\n",
       "        vertical-align: top;\n",
       "    }\n",
       "\n",
       "    .dataframe thead th {\n",
       "        text-align: right;\n",
       "    }\n",
       "</style>\n",
       "<table border=\"1\" class=\"dataframe\">\n",
       "  <thead>\n",
       "    <tr style=\"text-align: right;\">\n",
       "      <th></th>\n",
       "      <th>COUNTRY</th>\n",
       "    </tr>\n",
       "  </thead>\n",
       "  <tbody>\n",
       "    <tr>\n",
       "      <th>0</th>\n",
       "      <td>France</td>\n",
       "    </tr>\n",
       "    <tr>\n",
       "      <th>7</th>\n",
       "      <td>Belgium</td>\n",
       "    </tr>\n",
       "    <tr>\n",
       "      <th>19</th>\n",
       "      <td>Switzerland</td>\n",
       "    </tr>\n",
       "  </tbody>\n",
       "</table>\n",
       "</div>"
      ],
      "text/plain": [
       "        COUNTRY\n",
       "0        France\n",
       "7       Belgium\n",
       "19  Switzerland"
      ]
     },
     "execution_count": 9,
     "metadata": {},
     "output_type": "execute_result"
    }
   ],
   "source": [
    "country = pd.read_sql_query('SELECT * from country', con_sales)\n",
    "filtered_results = country[\"CURRENCY_NAME\"] == \"francs\"\n",
    "country_df = pd.DataFrame(country.loc[filtered_results, 'COUNTRY'])\n",
    "country_df\n"
   ]
  },
  {
   "cell_type": "markdown",
   "metadata": {},
   "source": [
    "Geef een overzicht met daarin de verschillende introductiedatums waarop producten met meer dan 50% marge worden geïntroduceerd (1 kolom, 7 rijen) "
   ]
  },
  {
   "cell_type": "code",
   "execution_count": 10,
   "metadata": {},
   "outputs": [
    {
     "data": {
      "text/html": [
       "<div>\n",
       "<style scoped>\n",
       "    .dataframe tbody tr th:only-of-type {\n",
       "        vertical-align: middle;\n",
       "    }\n",
       "\n",
       "    .dataframe tbody tr th {\n",
       "        vertical-align: top;\n",
       "    }\n",
       "\n",
       "    .dataframe thead th {\n",
       "        text-align: right;\n",
       "    }\n",
       "</style>\n",
       "<table border=\"1\" class=\"dataframe\">\n",
       "  <thead>\n",
       "    <tr style=\"text-align: right;\">\n",
       "      <th></th>\n",
       "      <th>INTRODUCTION_DATE</th>\n",
       "      <th>MARGIN</th>\n",
       "    </tr>\n",
       "  </thead>\n",
       "  <tbody>\n",
       "    <tr>\n",
       "      <th>4</th>\n",
       "      <td>10-12-2019</td>\n",
       "      <td>0.51</td>\n",
       "    </tr>\n",
       "    <tr>\n",
       "      <th>6</th>\n",
       "      <td>18-12-2019</td>\n",
       "      <td>0.51</td>\n",
       "    </tr>\n",
       "    <tr>\n",
       "      <th>7</th>\n",
       "      <td>27-12-2019</td>\n",
       "      <td>0.55</td>\n",
       "    </tr>\n",
       "    <tr>\n",
       "      <th>9</th>\n",
       "      <td>13-1-2020</td>\n",
       "      <td>0.55</td>\n",
       "    </tr>\n",
       "    <tr>\n",
       "      <th>14</th>\n",
       "      <td>15-12-2019</td>\n",
       "      <td>0.55</td>\n",
       "    </tr>\n",
       "    <tr>\n",
       "      <th>17</th>\n",
       "      <td>15-12-2019</td>\n",
       "      <td>0.60</td>\n",
       "    </tr>\n",
       "    <tr>\n",
       "      <th>79</th>\n",
       "      <td>26-10-2016</td>\n",
       "      <td>0.51</td>\n",
       "    </tr>\n",
       "    <tr>\n",
       "      <th>100</th>\n",
       "      <td>15-2-2011</td>\n",
       "      <td>0.67</td>\n",
       "    </tr>\n",
       "    <tr>\n",
       "      <th>101</th>\n",
       "      <td>15-2-2011</td>\n",
       "      <td>0.67</td>\n",
       "    </tr>\n",
       "    <tr>\n",
       "      <th>102</th>\n",
       "      <td>15-2-2011</td>\n",
       "      <td>0.70</td>\n",
       "    </tr>\n",
       "    <tr>\n",
       "      <th>103</th>\n",
       "      <td>15-2-2011</td>\n",
       "      <td>0.63</td>\n",
       "    </tr>\n",
       "    <tr>\n",
       "      <th>105</th>\n",
       "      <td>15-2-2011</td>\n",
       "      <td>0.63</td>\n",
       "    </tr>\n",
       "    <tr>\n",
       "      <th>106</th>\n",
       "      <td>15-2-2011</td>\n",
       "      <td>0.60</td>\n",
       "    </tr>\n",
       "    <tr>\n",
       "      <th>107</th>\n",
       "      <td>15-2-2011</td>\n",
       "      <td>0.60</td>\n",
       "    </tr>\n",
       "    <tr>\n",
       "      <th>108</th>\n",
       "      <td>15-2-2011</td>\n",
       "      <td>0.60</td>\n",
       "    </tr>\n",
       "    <tr>\n",
       "      <th>109</th>\n",
       "      <td>15-2-2011</td>\n",
       "      <td>0.60</td>\n",
       "    </tr>\n",
       "    <tr>\n",
       "      <th>114</th>\n",
       "      <td>15-2-2011</td>\n",
       "      <td>0.60</td>\n",
       "    </tr>\n",
       "  </tbody>\n",
       "</table>\n",
       "</div>"
      ],
      "text/plain": [
       "    INTRODUCTION_DATE  MARGIN\n",
       "4          10-12-2019    0.51\n",
       "6          18-12-2019    0.51\n",
       "7          27-12-2019    0.55\n",
       "9           13-1-2020    0.55\n",
       "14         15-12-2019    0.55\n",
       "17         15-12-2019    0.60\n",
       "79         26-10-2016    0.51\n",
       "100         15-2-2011    0.67\n",
       "101         15-2-2011    0.67\n",
       "102         15-2-2011    0.70\n",
       "103         15-2-2011    0.63\n",
       "105         15-2-2011    0.63\n",
       "106         15-2-2011    0.60\n",
       "107         15-2-2011    0.60\n",
       "108         15-2-2011    0.60\n",
       "109         15-2-2011    0.60\n",
       "114         15-2-2011    0.60"
      ]
     },
     "execution_count": 10,
     "metadata": {},
     "output_type": "execute_result"
    }
   ],
   "source": [
    "product\n",
    "product[\"MARGIN\"] = product[\"MARGIN\"].astype(float)\n",
    "filtered_results = product[\"MARGIN\"] > 0.5\n",
    "product.loc[filtered_results, ('INTRODUCTION_DATE', 'MARGIN')]\n"
   ]
  },
  {
   "cell_type": "markdown",
   "metadata": {},
   "source": [
    "Geef een overzicht met daarin het eerste adres en de stad van verkoopafdelingen waarvan zowel het tweede adres als de regio bekend is (2 kolommen, 28 rijen)"
   ]
  },
  {
   "cell_type": "code",
   "execution_count": 11,
   "metadata": {},
   "outputs": [
    {
     "data": {
      "text/html": [
       "<div>\n",
       "<style scoped>\n",
       "    .dataframe tbody tr th:only-of-type {\n",
       "        vertical-align: middle;\n",
       "    }\n",
       "\n",
       "    .dataframe tbody tr th {\n",
       "        vertical-align: top;\n",
       "    }\n",
       "\n",
       "    .dataframe thead th {\n",
       "        text-align: right;\n",
       "    }\n",
       "</style>\n",
       "<table border=\"1\" class=\"dataframe\">\n",
       "  <thead>\n",
       "    <tr style=\"text-align: right;\">\n",
       "      <th></th>\n",
       "      <th>ADDRESS2</th>\n",
       "      <th>REGION</th>\n",
       "    </tr>\n",
       "  </thead>\n",
       "  <tbody>\n",
       "    <tr>\n",
       "      <th>10</th>\n",
       "      <td>Lomas de Santa Fe</td>\n",
       "      <td>México</td>\n",
       "    </tr>\n",
       "    <tr>\n",
       "      <th>11</th>\n",
       "      <td>Shinjuku-ku</td>\n",
       "      <td>Tokyo</td>\n",
       "    </tr>\n",
       "    <tr>\n",
       "      <th>12</th>\n",
       "      <td>Asahi-ku</td>\n",
       "      <td>Osaka</td>\n",
       "    </tr>\n",
       "    <tr>\n",
       "      <th>13</th>\n",
       "      <td>Level 2</td>\n",
       "      <td>VIC</td>\n",
       "    </tr>\n",
       "    <tr>\n",
       "      <th>15</th>\n",
       "      <td>CJ 231 2o. Andar</td>\n",
       "      <td>SP</td>\n",
       "    </tr>\n",
       "    <tr>\n",
       "      <th>21</th>\n",
       "      <td>Market Street</td>\n",
       "      <td>West Midlands</td>\n",
       "    </tr>\n",
       "    <tr>\n",
       "      <th>27</th>\n",
       "      <td>4e verdieping</td>\n",
       "      <td>Noord-Holland</td>\n",
       "    </tr>\n",
       "  </tbody>\n",
       "</table>\n",
       "</div>"
      ],
      "text/plain": [
       "             ADDRESS2         REGION\n",
       "10  Lomas de Santa Fe         México\n",
       "11        Shinjuku-ku          Tokyo\n",
       "12           Asahi-ku          Osaka\n",
       "13            Level 2            VIC\n",
       "15   CJ 231 2o. Andar             SP\n",
       "21      Market Street  West Midlands\n",
       "27      4e verdieping  Noord-Holland"
      ]
     },
     "execution_count": 11,
     "metadata": {},
     "output_type": "execute_result"
    }
   ],
   "source": [
    "sales_branch = pd.read_sql_query('SELECT * from sales_branch', con_sales)\n",
    "filtered_branches = (sales_branch[\"ADDRESS2\"].notna()) & (sales_branch[\"REGION\"].notna())\n",
    "sales_branch.loc[filtered_branches, ('ADDRESS2', 'REGION')]"
   ]
  },
  {
   "cell_type": "markdown",
   "metadata": {},
   "source": [
    "Geef een overzicht met daarin de landen waar met dollars (dollars of new dollar) wordt betaald. Sorteer de uitkomst op land. (1 kolom, 4 rijen) "
   ]
  },
  {
   "cell_type": "code",
   "execution_count": 12,
   "metadata": {},
   "outputs": [
    {
     "data": {
      "text/html": [
       "<div>\n",
       "<style scoped>\n",
       "    .dataframe tbody tr th:only-of-type {\n",
       "        vertical-align: middle;\n",
       "    }\n",
       "\n",
       "    .dataframe tbody tr th {\n",
       "        vertical-align: top;\n",
       "    }\n",
       "\n",
       "    .dataframe thead th {\n",
       "        text-align: right;\n",
       "    }\n",
       "</style>\n",
       "<table border=\"1\" class=\"dataframe\">\n",
       "  <thead>\n",
       "    <tr style=\"text-align: right;\">\n",
       "      <th></th>\n",
       "      <th>COUNTRY</th>\n",
       "    </tr>\n",
       "  </thead>\n",
       "  <tbody>\n",
       "    <tr>\n",
       "      <th>3</th>\n",
       "      <td>Taiwan</td>\n",
       "    </tr>\n",
       "    <tr>\n",
       "      <th>6</th>\n",
       "      <td>Australia</td>\n",
       "    </tr>\n",
       "    <tr>\n",
       "      <th>14</th>\n",
       "      <td>United States</td>\n",
       "    </tr>\n",
       "    <tr>\n",
       "      <th>15</th>\n",
       "      <td>Canada</td>\n",
       "    </tr>\n",
       "  </tbody>\n",
       "</table>\n",
       "</div>"
      ],
      "text/plain": [
       "          COUNTRY\n",
       "3          Taiwan\n",
       "6       Australia\n",
       "14  United States\n",
       "15         Canada"
      ]
     },
     "execution_count": 12,
     "metadata": {},
     "output_type": "execute_result"
    }
   ],
   "source": [
    "country = pd.read_sql_query('SELECT * from country', con_sales)\n",
    "filtered_results = (country[\"CURRENCY_NAME\"] == \"dollars\") | (country[\"CURRENCY_NAME\"] == \"new dollar\")\n",
    "country_df = pd.DataFrame(country.loc[filtered_results, 'COUNTRY'])\n",
    "country_df\n"
   ]
  },
  {
   "cell_type": "markdown",
   "metadata": {},
   "source": [
    "Geef een overzicht met daarin beide adressen en de stad van vestigingen van klanten waarvan de postcode begint met een ‘D’ (van duitsland). Filter op vestigingen die een tweede adres hebben. (3 kolommen, 2 rijen) "
   ]
  },
  {
   "cell_type": "code",
   "execution_count": 13,
   "metadata": {},
   "outputs": [
    {
     "data": {
      "text/html": [
       "<div>\n",
       "<style scoped>\n",
       "    .dataframe tbody tr th:only-of-type {\n",
       "        vertical-align: middle;\n",
       "    }\n",
       "\n",
       "    .dataframe tbody tr th {\n",
       "        vertical-align: top;\n",
       "    }\n",
       "\n",
       "    .dataframe thead th {\n",
       "        text-align: right;\n",
       "    }\n",
       "</style>\n",
       "<table border=\"1\" class=\"dataframe\">\n",
       "  <thead>\n",
       "    <tr style=\"text-align: right;\">\n",
       "      <th></th>\n",
       "      <th>ADDRESS1</th>\n",
       "      <th>ADDRESS2</th>\n",
       "      <th>CITY</th>\n",
       "    </tr>\n",
       "  </thead>\n",
       "  <tbody>\n",
       "    <tr>\n",
       "      <th>205</th>\n",
       "      <td>Röntgenstraße 90</td>\n",
       "      <td>3. Tür rechts</td>\n",
       "      <td>Frankfurt</td>\n",
       "    </tr>\n",
       "    <tr>\n",
       "      <th>351</th>\n",
       "      <td>Grubesallee 141</td>\n",
       "      <td>4. Stock</td>\n",
       "      <td>Hamburg</td>\n",
       "    </tr>\n",
       "  </tbody>\n",
       "</table>\n",
       "</div>"
      ],
      "text/plain": [
       "             ADDRESS1       ADDRESS2       CITY\n",
       "205  Röntgenstraße 90  3. Tür rechts  Frankfurt\n",
       "351   Grubesallee 141       4. Stock    Hamburg"
      ]
     },
     "execution_count": 13,
     "metadata": {},
     "output_type": "execute_result"
    }
   ],
   "source": [
    "site = pd.read_sql(\"SELECT * FROM retailer_site\", con_sales)\n",
    "filtered_branches = (site[\"POSTAL_ZONE\"].str[0] == 'D') & (site[\"ADDRESS2\"].notna()) \n",
    "site.loc[filtered_branches, (\"ADDRESS1\", \"ADDRESS2\", \"CITY\")]\n"
   ]
  },
  {
   "cell_type": "markdown",
   "metadata": {},
   "source": [
    "## Selecties op één tabel met functies"
   ]
  },
  {
   "cell_type": "markdown",
   "metadata": {},
   "source": [
    "Geef het totaal aantal producten dat is teruggebracht (1 waarde) "
   ]
  },
  {
   "cell_type": "code",
   "execution_count": 14,
   "metadata": {},
   "outputs": [
    {
     "data": {
      "text/plain": [
       "14306.0"
      ]
     },
     "execution_count": 14,
     "metadata": {},
     "output_type": "execute_result"
    }
   ],
   "source": [
    "retoeren = pd.read_sql_query(\"SELECT * FROM returned_item\", con_sales)\n",
    "retoeren[\"RETURN_QUANTITY\"] = retoeren[\"RETURN_QUANTITY\"].astype(float)\n",
    "retoeren[\"RETURN_QUANTITY\"].astype(float).sum()\n"
   ]
  },
  {
   "cell_type": "markdown",
   "metadata": {},
   "source": [
    "Geef het aantal regio’s waarin verkoopafdelingen gevestigd zijn. (1 waarde)"
   ]
  },
  {
   "cell_type": "code",
   "execution_count": 15,
   "metadata": {},
   "outputs": [
    {
     "data": {
      "text/plain": [
       "15"
      ]
     },
     "execution_count": 15,
     "metadata": {},
     "output_type": "execute_result"
    }
   ],
   "source": [
    "sales = sales_branch[\"REGION\"].dropna() \n",
    "sales.count()"
   ]
  },
  {
   "cell_type": "markdown",
   "metadata": {},
   "source": [
    "Maak 3 variabelen:\n",
    "- Een met de laagste\n",
    "- Een met de hoogste\n",
    "- Een met de gemiddelde (afgerond op 2 decimalen)\n",
    "\n",
    "marge van producten (3 kolommen, 1 rij) "
   ]
  },
  {
   "cell_type": "code",
   "execution_count": 16,
   "metadata": {},
   "outputs": [
    {
     "data": {
      "text/html": [
       "<div>\n",
       "<style scoped>\n",
       "    .dataframe tbody tr th:only-of-type {\n",
       "        vertical-align: middle;\n",
       "    }\n",
       "\n",
       "    .dataframe tbody tr th {\n",
       "        vertical-align: top;\n",
       "    }\n",
       "\n",
       "    .dataframe thead th {\n",
       "        text-align: right;\n",
       "    }\n",
       "</style>\n",
       "<table border=\"1\" class=\"dataframe\">\n",
       "  <thead>\n",
       "    <tr style=\"text-align: right;\">\n",
       "      <th></th>\n",
       "      <th>Minimum Margin</th>\n",
       "      <th>Maximum Margin</th>\n",
       "      <th>Average Margin</th>\n",
       "    </tr>\n",
       "  </thead>\n",
       "  <tbody>\n",
       "    <tr>\n",
       "      <th>1</th>\n",
       "      <td>0.17</td>\n",
       "      <td>0.7</td>\n",
       "      <td>0.4</td>\n",
       "    </tr>\n",
       "  </tbody>\n",
       "</table>\n",
       "</div>"
      ],
      "text/plain": [
       "   Minimum Margin  Maximum Margin  Average Margin\n",
       "1            0.17             0.7             0.4"
      ]
     },
     "execution_count": 16,
     "metadata": {},
     "output_type": "execute_result"
    }
   ],
   "source": [
    "margin_min = product[\"MARGIN\"].min()\n",
    "margin_max = product[\"MARGIN\"].max()\n",
    "margin_avg = product[\"MARGIN\"].mean()\n",
    "\n",
    "mar_dict = {\n",
    "    \"Minimum Margin\": margin_min,\n",
    "    \"Maximum Margin\": margin_max,\n",
    "    \"Average Margin\": margin_avg\n",
    "}\n",
    "\n",
    "df = pd.DataFrame(mar_dict, index=[1])\n",
    "\n",
    "df.round(2)\n"
   ]
  },
  {
   "cell_type": "markdown",
   "metadata": {},
   "source": [
    "Geef het aantal vestigingen van klanten waarvan het 2e adres niet bekend is (1 waarde)"
   ]
  },
  {
   "cell_type": "code",
   "execution_count": 17,
   "metadata": {},
   "outputs": [
    {
     "data": {
      "text/plain": [
       "286"
      ]
     },
     "execution_count": 17,
     "metadata": {},
     "output_type": "execute_result"
    }
   ],
   "source": [
    "AantalKlanten = site[\"ADDRESS2\"].isna()\n",
    "site.loc[AantalKlanten, 'RETAILER_SITE_CODE'].count()"
   ]
  },
  {
   "cell_type": "markdown",
   "metadata": {},
   "source": [
    "Geef de gemiddelde kostprijs van de verkochte producten waarop korting (unit_sale_price < unit_price) is verleend (1 waarde) "
   ]
  },
  {
   "cell_type": "code",
   "execution_count": 18,
   "metadata": {},
   "outputs": [
    {
     "data": {
      "text/plain": [
       "125.42305809556548"
      ]
     },
     "execution_count": 18,
     "metadata": {},
     "output_type": "execute_result"
    }
   ],
   "source": [
    "order_details = pd.read_sql(\"SELECT * FROM order_details\", con_sales)\n",
    "order_details[\"UNIT_SALE_PRICE\"] = order_details[\"UNIT_SALE_PRICE\"].astype(float)\n",
    "order_details[\"UNIT_PRICE\"] = order_details[\"UNIT_PRICE\"].astype(float)\n",
    "filtered_units = order_details[\"UNIT_SALE_PRICE\"] < order_details[\"UNIT_PRICE\"]\n",
    "filtered_table = order_details.loc[filtered_units, \"UNIT_COST\"]\n",
    "filtered_table = filtered_table.astype(float)\n",
    "mean_unit_cost = filtered_table.mean()\n",
    "mean_unit_cost"
   ]
  },
  {
   "cell_type": "markdown",
   "metadata": {},
   "source": [
    "Geef een overzicht met daarin het aantal medewerkers per medewerkersfunctie (2 kolommen, 7 rijen) "
   ]
  },
  {
   "cell_type": "code",
   "execution_count": 19,
   "metadata": {},
   "outputs": [
    {
     "data": {
      "text/html": [
       "<div>\n",
       "<style scoped>\n",
       "    .dataframe tbody tr th:only-of-type {\n",
       "        vertical-align: middle;\n",
       "    }\n",
       "\n",
       "    .dataframe tbody tr th {\n",
       "        vertical-align: top;\n",
       "    }\n",
       "\n",
       "    .dataframe thead th {\n",
       "        text-align: right;\n",
       "    }\n",
       "</style>\n",
       "<table border=\"1\" class=\"dataframe\">\n",
       "  <thead>\n",
       "    <tr style=\"text-align: right;\">\n",
       "      <th></th>\n",
       "      <th>POSITION_EN</th>\n",
       "      <th>AANTAL</th>\n",
       "    </tr>\n",
       "  </thead>\n",
       "  <tbody>\n",
       "    <tr>\n",
       "      <th>0</th>\n",
       "      <td>Branch Manager</td>\n",
       "      <td>19</td>\n",
       "    </tr>\n",
       "    <tr>\n",
       "      <th>1</th>\n",
       "      <td>District Manager</td>\n",
       "      <td>4</td>\n",
       "    </tr>\n",
       "    <tr>\n",
       "      <th>2</th>\n",
       "      <td>General Manager</td>\n",
       "      <td>1</td>\n",
       "    </tr>\n",
       "    <tr>\n",
       "      <th>3</th>\n",
       "      <td>Level 1 Sales Representative</td>\n",
       "      <td>13</td>\n",
       "    </tr>\n",
       "    <tr>\n",
       "      <th>4</th>\n",
       "      <td>Level 2 Sales Representative</td>\n",
       "      <td>39</td>\n",
       "    </tr>\n",
       "    <tr>\n",
       "      <th>5</th>\n",
       "      <td>Level 3 Sales Representative</td>\n",
       "      <td>24</td>\n",
       "    </tr>\n",
       "    <tr>\n",
       "      <th>6</th>\n",
       "      <td>Regional Manager</td>\n",
       "      <td>2</td>\n",
       "    </tr>\n",
       "  </tbody>\n",
       "</table>\n",
       "</div>"
      ],
      "text/plain": [
       "                    POSITION_EN  AANTAL\n",
       "0                Branch Manager      19\n",
       "1              District Manager       4\n",
       "2               General Manager       1\n",
       "3  Level 1 Sales Representative      13\n",
       "4  Level 2 Sales Representative      39\n",
       "5  Level 3 Sales Representative      24\n",
       "6              Regional Manager       2"
      ]
     },
     "execution_count": 19,
     "metadata": {},
     "output_type": "execute_result"
    }
   ],
   "source": [
    "sales_staff = pd.read_sql(\"SELECT * FROM sales_staff\", con_sales)\n",
    "sales_staff_temp1 = sales_staff.groupby(\"POSITION_EN\", as_index=False)[\"FIRST_NAME\"].count()\n",
    "sales_staff_temp = sales_staff_temp1.rename(columns = {\"FIRST_NAME\" : \"AANTAL\"})\n",
    "sales_staff_temp"
   ]
  },
  {
   "cell_type": "markdown",
   "metadata": {},
   "source": [
    "Geef een overzicht met daarin per telefoonnummer het aantal medewerkers dat op dat telefoonnummer bereikbaar is. Toon alleen de telefoonnummer waarop meer dan 4 medewerkers bereikbaar zijn. (2 kolommen, 10 rijen) "
   ]
  },
  {
   "cell_type": "code",
   "execution_count": 20,
   "metadata": {},
   "outputs": [
    {
     "data": {
      "text/html": [
       "<div>\n",
       "<style scoped>\n",
       "    .dataframe tbody tr th:only-of-type {\n",
       "        vertical-align: middle;\n",
       "    }\n",
       "\n",
       "    .dataframe tbody tr th {\n",
       "        vertical-align: top;\n",
       "    }\n",
       "\n",
       "    .dataframe thead th {\n",
       "        text-align: right;\n",
       "    }\n",
       "</style>\n",
       "<table border=\"1\" class=\"dataframe\">\n",
       "  <thead>\n",
       "    <tr style=\"text-align: right;\">\n",
       "      <th></th>\n",
       "      <th>WORK_PHONE</th>\n",
       "      <th>Aantal</th>\n",
       "    </tr>\n",
       "  </thead>\n",
       "  <tbody>\n",
       "    <tr>\n",
       "      <th>4</th>\n",
       "      <td>+(44) 121 3505267</td>\n",
       "      <td>5</td>\n",
       "    </tr>\n",
       "    <tr>\n",
       "      <th>10</th>\n",
       "      <td>+(61) 03 2982  4242</td>\n",
       "      <td>5</td>\n",
       "    </tr>\n",
       "    <tr>\n",
       "      <th>11</th>\n",
       "      <td>+31 (0)20 692 93 94</td>\n",
       "      <td>5</td>\n",
       "    </tr>\n",
       "    <tr>\n",
       "      <th>13</th>\n",
       "      <td>+33 1 68 94 52 20</td>\n",
       "      <td>5</td>\n",
       "    </tr>\n",
       "    <tr>\n",
       "      <th>18</th>\n",
       "      <td>1 (206) 292-0012</td>\n",
       "      <td>5</td>\n",
       "    </tr>\n",
       "    <tr>\n",
       "      <th>19</th>\n",
       "      <td>1 (305) 557-4810</td>\n",
       "      <td>6</td>\n",
       "    </tr>\n",
       "    <tr>\n",
       "      <th>20</th>\n",
       "      <td>1 (310) 281-5722</td>\n",
       "      <td>5</td>\n",
       "    </tr>\n",
       "    <tr>\n",
       "      <th>21</th>\n",
       "      <td>1 (403) 232-5986</td>\n",
       "      <td>5</td>\n",
       "    </tr>\n",
       "    <tr>\n",
       "      <th>22</th>\n",
       "      <td>1 (416) 493-5595</td>\n",
       "      <td>5</td>\n",
       "    </tr>\n",
       "    <tr>\n",
       "      <th>23</th>\n",
       "      <td>1 (617) 268-6754</td>\n",
       "      <td>6</td>\n",
       "    </tr>\n",
       "  </tbody>\n",
       "</table>\n",
       "</div>"
      ],
      "text/plain": [
       "             WORK_PHONE  Aantal\n",
       "4     +(44) 121 3505267       5\n",
       "10  +(61) 03 2982  4242       5\n",
       "11  +31 (0)20 692 93 94       5\n",
       "13    +33 1 68 94 52 20       5\n",
       "18     1 (206) 292-0012       5\n",
       "19     1 (305) 557-4810       6\n",
       "20     1 (310) 281-5722       5\n",
       "21     1 (403) 232-5986       5\n",
       "22     1 (416) 493-5595       5\n",
       "23     1 (617) 268-6754       6"
      ]
     },
     "execution_count": 20,
     "metadata": {},
     "output_type": "execute_result"
    }
   ],
   "source": [
    "filtered_sales_staff = sales_staff.groupby(\"WORK_PHONE\", as_index=False)[\"SALES_STAFF_CODE\"].count()\n",
    "filtered_sales_staff = filtered_sales_staff[filtered_sales_staff[\"SALES_STAFF_CODE\"] > 4]\n",
    "filtered_sales_staff = filtered_sales_staff.rename(columns = {\"SALES_STAFF_CODE\" : \"Aantal\"})\n",
    "filtered_sales_staff"
   ]
  },
  {
   "cell_type": "markdown",
   "metadata": {},
   "source": [
    "## Selecties op meerdere tabellen zonder functies"
   ]
  },
  {
   "cell_type": "markdown",
   "metadata": {},
   "source": [
    "Geef een overzicht met daarin het eerste adres en de stad van vestigingen van klanten uit ‘Netherlands’ (2 kolommen, 20 rijen) "
   ]
  },
  {
   "cell_type": "code",
   "execution_count": 23,
   "metadata": {},
   "outputs": [
    {
     "data": {
      "text/html": [
       "<div>\n",
       "<style scoped>\n",
       "    .dataframe tbody tr th:only-of-type {\n",
       "        vertical-align: middle;\n",
       "    }\n",
       "\n",
       "    .dataframe tbody tr th {\n",
       "        vertical-align: top;\n",
       "    }\n",
       "\n",
       "    .dataframe thead th {\n",
       "        text-align: right;\n",
       "    }\n",
       "</style>\n",
       "<table border=\"1\" class=\"dataframe\">\n",
       "  <thead>\n",
       "    <tr style=\"text-align: right;\">\n",
       "      <th></th>\n",
       "      <th>ADDRESS1</th>\n",
       "      <th>CITY</th>\n",
       "    </tr>\n",
       "  </thead>\n",
       "  <tbody>\n",
       "    <tr>\n",
       "      <th>333</th>\n",
       "      <td>Beets 36</td>\n",
       "      <td>Beets</td>\n",
       "    </tr>\n",
       "    <tr>\n",
       "      <th>334</th>\n",
       "      <td>Perestraat 1</td>\n",
       "      <td>Deventer</td>\n",
       "    </tr>\n",
       "    <tr>\n",
       "      <th>335</th>\n",
       "      <td>Laan van Meerdervoort 966</td>\n",
       "      <td>Den Haag</td>\n",
       "    </tr>\n",
       "    <tr>\n",
       "      <th>336</th>\n",
       "      <td>Kalfjeslaan 47</td>\n",
       "      <td>Amstelveen</td>\n",
       "    </tr>\n",
       "    <tr>\n",
       "      <th>337</th>\n",
       "      <td>Startbaan 11</td>\n",
       "      <td>Amstelveen</td>\n",
       "    </tr>\n",
       "    <tr>\n",
       "      <th>338</th>\n",
       "      <td>Noorderspoorsingel 28</td>\n",
       "      <td>Groningen</td>\n",
       "    </tr>\n",
       "    <tr>\n",
       "      <th>339</th>\n",
       "      <td>Hogehilweg 13</td>\n",
       "      <td>Amsterdam</td>\n",
       "    </tr>\n",
       "    <tr>\n",
       "      <th>340</th>\n",
       "      <td>Spoorstraat 43</td>\n",
       "      <td>Varsseveld</td>\n",
       "    </tr>\n",
       "    <tr>\n",
       "      <th>341</th>\n",
       "      <td>Westhavenweg 8</td>\n",
       "      <td>Amsterdam</td>\n",
       "    </tr>\n",
       "    <tr>\n",
       "      <th>342</th>\n",
       "      <td>Westzeedijk 4</td>\n",
       "      <td>Muiden</td>\n",
       "    </tr>\n",
       "    <tr>\n",
       "      <th>343</th>\n",
       "      <td>Gooiergracht 91</td>\n",
       "      <td>Laren</td>\n",
       "    </tr>\n",
       "    <tr>\n",
       "      <th>344</th>\n",
       "      <td>Hoofdstraat 150</td>\n",
       "      <td>Pieterburen</td>\n",
       "    </tr>\n",
       "    <tr>\n",
       "      <th>345</th>\n",
       "      <td>Olde Diek 2</td>\n",
       "      <td>Laren</td>\n",
       "    </tr>\n",
       "    <tr>\n",
       "      <th>346</th>\n",
       "      <td>Amsterdamsestraatweg 8</td>\n",
       "      <td>Maarssen</td>\n",
       "    </tr>\n",
       "    <tr>\n",
       "      <th>347</th>\n",
       "      <td>Krayenhoffstraat 11</td>\n",
       "      <td>Amsterdam</td>\n",
       "    </tr>\n",
       "    <tr>\n",
       "      <th>348</th>\n",
       "      <td>Overschiestraat 19</td>\n",
       "      <td>Amsterdam</td>\n",
       "    </tr>\n",
       "    <tr>\n",
       "      <th>349</th>\n",
       "      <td>Havenbuurt 12</td>\n",
       "      <td>Marken</td>\n",
       "    </tr>\n",
       "    <tr>\n",
       "      <th>350</th>\n",
       "      <td>Duivendaal 1</td>\n",
       "      <td>Wageningen</td>\n",
       "    </tr>\n",
       "    <tr>\n",
       "      <th>351</th>\n",
       "      <td>Voorstraat 37</td>\n",
       "      <td>Nieuweschans</td>\n",
       "    </tr>\n",
       "    <tr>\n",
       "      <th>352</th>\n",
       "      <td>Stadhouderslaan 18</td>\n",
       "      <td>Rotterdam</td>\n",
       "    </tr>\n",
       "  </tbody>\n",
       "</table>\n",
       "</div>"
      ],
      "text/plain": [
       "                      ADDRESS1          CITY\n",
       "333                   Beets 36         Beets\n",
       "334               Perestraat 1      Deventer\n",
       "335  Laan van Meerdervoort 966      Den Haag\n",
       "336             Kalfjeslaan 47    Amstelveen\n",
       "337               Startbaan 11    Amstelveen\n",
       "338      Noorderspoorsingel 28     Groningen\n",
       "339              Hogehilweg 13     Amsterdam\n",
       "340             Spoorstraat 43    Varsseveld\n",
       "341             Westhavenweg 8     Amsterdam\n",
       "342              Westzeedijk 4        Muiden\n",
       "343            Gooiergracht 91         Laren\n",
       "344            Hoofdstraat 150   Pieterburen\n",
       "345                Olde Diek 2         Laren\n",
       "346     Amsterdamsestraatweg 8      Maarssen\n",
       "347        Krayenhoffstraat 11     Amsterdam\n",
       "348         Overschiestraat 19     Amsterdam\n",
       "349              Havenbuurt 12        Marken\n",
       "350               Duivendaal 1    Wageningen\n",
       "351              Voorstraat 37  Nieuweschans\n",
       "352         Stadhouderslaan 18     Rotterdam"
      ]
     },
     "execution_count": 23,
     "metadata": {},
     "output_type": "execute_result"
    }
   ],
   "source": [
    "country_site = pd.merge(country, site, left_on = 'COUNTRY_CODE', how = 'left', right_on=\"COUNTRY_CODE\")\n",
    "nl_only = country_site[\"COUNTRY\"] == 'Netherlands'\n",
    "country_site.loc[nl_only, (\"ADDRESS1\", \"CITY\")]"
   ]
  },
  {
   "cell_type": "markdown",
   "metadata": {},
   "source": [
    "Geef een overzicht met daarin de productnamen die tot het producttype ‘Eyewear’ behoren. (1 kolom, 5 rijen) "
   ]
  },
  {
   "cell_type": "code",
   "execution_count": 35,
   "metadata": {},
   "outputs": [
    {
     "data": {
      "text/plain": [
       "80        Polar Sun\n",
       "81        Polar Ice\n",
       "83     Polar Sports\n",
       "84       Polar Wave\n",
       "85    Polar Extreme\n",
       "Name: PRODUCT_NAME, dtype: object"
      ]
     },
     "execution_count": 35,
     "metadata": {},
     "output_type": "execute_result"
    }
   ],
   "source": [
    "prod_type = pd.read_sql(\"SELECT * FROM product_type\", con_sales)\n",
    "prodtype_product = pd.merge(product, prod_type, left_on = \"PRODUCT_TYPE_CODE\", how = \"left\", right_on=\"PRODUCT_TYPE_CODE\")\n",
    "eyewear = prodtype_product[\"PRODUCT_TYPE_EN\"] == \"Eyewear\"\n",
    "prodtype_product.loc[eyewear, \"PRODUCT_NAME\"]"
   ]
  },
  {
   "cell_type": "markdown",
   "metadata": {},
   "source": [
    "Geef een overzicht met daarin alle unieke eerste adressen van klantvestigingen en de voornaam en achternaam van de verkopers die ‘Branch Manager’ zijn en aan deze vestigingen hebben verkocht (3 kolommen, 1 rij) "
   ]
  },
  {
   "cell_type": "code",
   "execution_count": 41,
   "metadata": {},
   "outputs": [],
   "source": [
    "#pd.merge(sales_staff, sales_branch, left_on= \"SALES_BRANCH_CODE\", how=\"left\", right_on=\"SALES_BRANCH_CODE\")\n"
   ]
  },
  {
   "cell_type": "markdown",
   "metadata": {},
   "source": [
    "Geef een overzicht met daarin van de verkopers hun functie                                                                          \n",
    "indien zij iets hebben verkocht de datum waarop de verkoop heeft plaatsgevonden. Laat alleen de verschillende namen van de posities zien van de verkopers die het woord ‘Manager’ in hun positienaam hebben staan. (2 kolommen, 9 rijen) "
   ]
  },
  {
   "cell_type": "code",
   "execution_count": 59,
   "metadata": {},
   "outputs": [
    {
     "data": {
      "text/html": [
       "<div>\n",
       "<style scoped>\n",
       "    .dataframe tbody tr th:only-of-type {\n",
       "        vertical-align: middle;\n",
       "    }\n",
       "\n",
       "    .dataframe tbody tr th {\n",
       "        vertical-align: top;\n",
       "    }\n",
       "\n",
       "    .dataframe thead th {\n",
       "        text-align: right;\n",
       "    }\n",
       "</style>\n",
       "<table border=\"1\" class=\"dataframe\">\n",
       "  <thead>\n",
       "    <tr style=\"text-align: right;\">\n",
       "      <th></th>\n",
       "      <th>POSITION_EN</th>\n",
       "      <th>ORDER_DATE</th>\n",
       "    </tr>\n",
       "  </thead>\n",
       "  <tbody>\n",
       "    <tr>\n",
       "      <th>421</th>\n",
       "      <td>Branch Manager</td>\n",
       "      <td>NaN</td>\n",
       "    </tr>\n",
       "    <tr>\n",
       "      <th>422</th>\n",
       "      <td>General Manager</td>\n",
       "      <td>NaN</td>\n",
       "    </tr>\n",
       "    <tr>\n",
       "      <th>1276</th>\n",
       "      <td>Regional Manager</td>\n",
       "      <td>NaN</td>\n",
       "    </tr>\n",
       "    <tr>\n",
       "      <th>1643</th>\n",
       "      <td>District Manager</td>\n",
       "      <td>NaN</td>\n",
       "    </tr>\n",
       "    <tr>\n",
       "      <th>5325</th>\n",
       "      <td>Branch Manager</td>\n",
       "      <td>2022-09-09</td>\n",
       "    </tr>\n",
       "    <tr>\n",
       "      <th>5326</th>\n",
       "      <td>Branch Manager</td>\n",
       "      <td>2022-10-31</td>\n",
       "    </tr>\n",
       "    <tr>\n",
       "      <th>5327</th>\n",
       "      <td>Branch Manager</td>\n",
       "      <td>2022-12-13</td>\n",
       "    </tr>\n",
       "    <tr>\n",
       "      <th>5328</th>\n",
       "      <td>Branch Manager</td>\n",
       "      <td>2022-03-13</td>\n",
       "    </tr>\n",
       "    <tr>\n",
       "      <th>5329</th>\n",
       "      <td>Branch Manager</td>\n",
       "      <td>2022-01-09</td>\n",
       "    </tr>\n",
       "  </tbody>\n",
       "</table>\n",
       "</div>"
      ],
      "text/plain": [
       "           POSITION_EN  ORDER_DATE\n",
       "421     Branch Manager         NaN\n",
       "422    General Manager         NaN\n",
       "1276  Regional Manager         NaN\n",
       "1643  District Manager         NaN\n",
       "5325    Branch Manager  2022-09-09\n",
       "5326    Branch Manager  2022-10-31\n",
       "5327    Branch Manager  2022-12-13\n",
       "5328    Branch Manager  2022-03-13\n",
       "5329    Branch Manager  2022-01-09"
      ]
     },
     "execution_count": 59,
     "metadata": {},
     "output_type": "execute_result"
    }
   ],
   "source": [
    "order_header = pd.read_sql_query(\"SELECT * FROM order_header\", con_sales)\n",
    "header_staff = pd.merge(sales_staff, order_header, left_on= \"SALES_STAFF_CODE\", how=\"left\", right_on=\"SALES_STAFF_CODE\")\n",
    "manager = header_staff[\"POSITION_EN\"].str.contains(\"Manager\")\n",
    "header_staff.loc[manager, (\"POSITION_EN\", \"ORDER_DATE\")].drop_duplicates()\n"
   ]
  },
  {
   "cell_type": "markdown",
   "metadata": {},
   "source": [
    "Geef een overzicht met daarin de verschillende namen van producten en bijbehorende namen van producttypen van de producten waarvoor ooit meer dan 750 stuks tegelijk verkocht zijn. (2 kolommen, 9 rijen) "
   ]
  },
  {
   "cell_type": "code",
   "execution_count": 63,
   "metadata": {},
   "outputs": [
    {
     "data": {
      "text/html": [
       "<div>\n",
       "<style scoped>\n",
       "    .dataframe tbody tr th:only-of-type {\n",
       "        vertical-align: middle;\n",
       "    }\n",
       "\n",
       "    .dataframe tbody tr th {\n",
       "        vertical-align: top;\n",
       "    }\n",
       "\n",
       "    .dataframe thead th {\n",
       "        text-align: right;\n",
       "    }\n",
       "</style>\n",
       "<table border=\"1\" class=\"dataframe\">\n",
       "  <thead>\n",
       "    <tr style=\"text-align: right;\">\n",
       "      <th></th>\n",
       "      <th>PRODUCT_NAME</th>\n",
       "      <th>PRODUCT_TYPE_EN</th>\n",
       "    </tr>\n",
       "  </thead>\n",
       "  <tbody>\n",
       "    <tr>\n",
       "      <th>8616</th>\n",
       "      <td>Star Peg</td>\n",
       "      <td>Tents</td>\n",
       "    </tr>\n",
       "    <tr>\n",
       "      <th>15975</th>\n",
       "      <td>Firefly 2</td>\n",
       "      <td>Lanterns</td>\n",
       "    </tr>\n",
       "    <tr>\n",
       "      <th>37903</th>\n",
       "      <td>BugShield Spray</td>\n",
       "      <td>Insect Repellents</td>\n",
       "    </tr>\n",
       "    <tr>\n",
       "      <th>38313</th>\n",
       "      <td>BugShield Lotion Lite</td>\n",
       "      <td>Insect Repellents</td>\n",
       "    </tr>\n",
       "    <tr>\n",
       "      <th>38770</th>\n",
       "      <td>BugShield Lotion</td>\n",
       "      <td>Insect Repellents</td>\n",
       "    </tr>\n",
       "    <tr>\n",
       "      <th>39618</th>\n",
       "      <td>BugShield Extreme</td>\n",
       "      <td>Insect Repellents</td>\n",
       "    </tr>\n",
       "    <tr>\n",
       "      <th>40754</th>\n",
       "      <td>Sun Shelter 15</td>\n",
       "      <td>Sunscreen</td>\n",
       "    </tr>\n",
       "    <tr>\n",
       "      <th>41106</th>\n",
       "      <td>Sun Shelter 30</td>\n",
       "      <td>Sunscreen</td>\n",
       "    </tr>\n",
       "    <tr>\n",
       "      <th>41681</th>\n",
       "      <td>Sun Shield</td>\n",
       "      <td>Sunscreen</td>\n",
       "    </tr>\n",
       "  </tbody>\n",
       "</table>\n",
       "</div>"
      ],
      "text/plain": [
       "                PRODUCT_NAME    PRODUCT_TYPE_EN\n",
       "8616                Star Peg              Tents\n",
       "15975              Firefly 2           Lanterns\n",
       "37903        BugShield Spray  Insect Repellents\n",
       "38313  BugShield Lotion Lite  Insect Repellents\n",
       "38770       BugShield Lotion  Insect Repellents\n",
       "39618      BugShield Extreme  Insect Repellents\n",
       "40754         Sun Shelter 15          Sunscreen\n",
       "41106         Sun Shelter 30          Sunscreen\n",
       "41681             Sun Shield          Sunscreen"
      ]
     },
     "execution_count": 63,
     "metadata": {},
     "output_type": "execute_result"
    }
   ],
   "source": [
    "bigOrder = pd.merge(prodtype_product, order_details, left_on=\"PRODUCT_NUMBER\", how=\"left\", right_on=\"PRODUCT_NUMBER\")\n",
    "meerdan750 = bigOrder['QUANTITY'] > 750 \n",
    "bigOrder.loc[meerdan750, (\"PRODUCT_NAME\", \"PRODUCT_TYPE_EN\")].drop_duplicates()"
   ]
  },
  {
   "cell_type": "markdown",
   "metadata": {},
   "source": [
    "Geef een overzicht met daarin de productnamen waarvan ooit meer dan 40% korting is verleend. De formule voor korting is: (unit_price - unit_sale_price) / unit_price (1 kolom, 8 rijen) "
   ]
  },
  {
   "cell_type": "code",
   "execution_count": 69,
   "metadata": {},
   "outputs": [
    {
     "data": {
      "text/plain": [
       "2765     Hailstorm Titanium Woods Set\n",
       "37446               BugShield Natural\n",
       "37967                 BugShield Spray\n",
       "38306           BugShield Lotion Lite\n",
       "38772                BugShield Lotion\n",
       "39561               BugShield Extreme\n",
       "40799                  Sun Shelter 15\n",
       "41194                  Sun Shelter 30\n",
       "Name: PRODUCT_NAME, dtype: object"
      ]
     },
     "execution_count": 69,
     "metadata": {},
     "output_type": "execute_result"
    }
   ],
   "source": [
    "bigOrder\n",
    "korting = ((bigOrder[\"UNIT_PRICE\"] - bigOrder[\"UNIT_SALE_PRICE\"]) / bigOrder[\"UNIT_PRICE\"]) > 0.4\n",
    "bigOrder.loc[korting, \"PRODUCT_NAME\"].drop_duplicates()"
   ]
  },
  {
   "cell_type": "markdown",
   "metadata": {},
   "source": [
    "Geef een overzicht met daarin de retourreden van producten waarvan ooit meer dan 90% van de aangeschafte hoeveelheid is teruggebracht (return_quantity/quantity). (1 kolom, 3 rijen) "
   ]
  },
  {
   "cell_type": "code",
   "execution_count": 96,
   "metadata": {},
   "outputs": [
    {
     "data": {
      "text/plain": [
       "0    Unsatisfactory product\n",
       "2     Wrong product shipped\n",
       "3     Wrong product ordered\n",
       "Name: RETURN_DESCRIPTION_EN, dtype: object"
      ]
     },
     "execution_count": 96,
     "metadata": {},
     "output_type": "execute_result"
    }
   ],
   "source": [
    "returned_item = pd.read_sql_query(\"SELECT * FROM returned_item\", con_sales)\n",
    "return_reason = pd.read_sql_query(\"SELECT * FROM return_reason\", con_sales)\n",
    "item_reason = pd.merge(returned_item, return_reason, left_on=\"RETURN_REASON_CODE\", right_on=\"RETURN_REASON_CODE\", how=\"left\")\n",
    "order_item_reason = pd.merge(item_reason, order_details, left_on=\"ORDER_DETAIL_CODE\", right_on=\"ORDER_DETAIL_CODE\", how=\"left\")\n",
    "\n",
    "order_item_reason_filter = order_item_reason[\"RETURN_QUANTITY\"].astype(float) / order_item_reason[\"QUANTITY\"].astype(float) > 0.9\n",
    "\n",
    "filtered_return_descriptions = order_item_reason.loc[order_item_reason_filter, \"RETURN_DESCRIPTION_EN\"].drop_duplicates()\n",
    "\n",
    "filtered_return_descriptions\n"
   ]
  },
  {
   "cell_type": "markdown",
   "metadata": {},
   "source": [
    "## Selecties op meerdere tabellen met functies"
   ]
  },
  {
   "cell_type": "markdown",
   "metadata": {},
   "source": [
    "Geef een overzicht met daarin per producttype het aantal producten die tot dat producttype behoren. (2 kolommen, 21 rijen) "
   ]
  },
  {
   "cell_type": "code",
   "execution_count": 100,
   "metadata": {},
   "outputs": [
    {
     "data": {
      "text/html": [
       "<div>\n",
       "<style scoped>\n",
       "    .dataframe tbody tr th:only-of-type {\n",
       "        vertical-align: middle;\n",
       "    }\n",
       "\n",
       "    .dataframe tbody tr th {\n",
       "        vertical-align: top;\n",
       "    }\n",
       "\n",
       "    .dataframe thead th {\n",
       "        text-align: right;\n",
       "    }\n",
       "</style>\n",
       "<table border=\"1\" class=\"dataframe\">\n",
       "  <thead>\n",
       "    <tr style=\"text-align: right;\">\n",
       "      <th></th>\n",
       "      <th>PRODUCT_TYPE_EN</th>\n",
       "      <th>AANTAL</th>\n",
       "    </tr>\n",
       "  </thead>\n",
       "  <tbody>\n",
       "    <tr>\n",
       "      <th>0</th>\n",
       "      <td>Binoculars</td>\n",
       "      <td>4</td>\n",
       "    </tr>\n",
       "    <tr>\n",
       "      <th>1</th>\n",
       "      <td>Climbing Accessories</td>\n",
       "      <td>7</td>\n",
       "    </tr>\n",
       "    <tr>\n",
       "      <th>2</th>\n",
       "      <td>Cooking Gear</td>\n",
       "      <td>10</td>\n",
       "    </tr>\n",
       "    <tr>\n",
       "      <th>3</th>\n",
       "      <td>Eyewear</td>\n",
       "      <td>5</td>\n",
       "    </tr>\n",
       "    <tr>\n",
       "      <th>4</th>\n",
       "      <td>First Aid</td>\n",
       "      <td>5</td>\n",
       "    </tr>\n",
       "    <tr>\n",
       "      <th>5</th>\n",
       "      <td>Golf Accessories</td>\n",
       "      <td>4</td>\n",
       "    </tr>\n",
       "    <tr>\n",
       "      <th>6</th>\n",
       "      <td>Insect Repellents</td>\n",
       "      <td>5</td>\n",
       "    </tr>\n",
       "    <tr>\n",
       "      <th>7</th>\n",
       "      <td>Irons</td>\n",
       "      <td>4</td>\n",
       "    </tr>\n",
       "    <tr>\n",
       "      <th>8</th>\n",
       "      <td>Knives</td>\n",
       "      <td>5</td>\n",
       "    </tr>\n",
       "    <tr>\n",
       "      <th>9</th>\n",
       "      <td>Lanterns</td>\n",
       "      <td>12</td>\n",
       "    </tr>\n",
       "    <tr>\n",
       "      <th>10</th>\n",
       "      <td>Navigation</td>\n",
       "      <td>4</td>\n",
       "    </tr>\n",
       "    <tr>\n",
       "      <th>11</th>\n",
       "      <td>Packs</td>\n",
       "      <td>6</td>\n",
       "    </tr>\n",
       "    <tr>\n",
       "      <th>12</th>\n",
       "      <td>Putters</td>\n",
       "      <td>3</td>\n",
       "    </tr>\n",
       "    <tr>\n",
       "      <th>13</th>\n",
       "      <td>Rope</td>\n",
       "      <td>4</td>\n",
       "    </tr>\n",
       "    <tr>\n",
       "      <th>14</th>\n",
       "      <td>Safety</td>\n",
       "      <td>4</td>\n",
       "    </tr>\n",
       "    <tr>\n",
       "      <th>15</th>\n",
       "      <td>Sleeping Bags</td>\n",
       "      <td>7</td>\n",
       "    </tr>\n",
       "    <tr>\n",
       "      <th>16</th>\n",
       "      <td>Sunscreen</td>\n",
       "      <td>5</td>\n",
       "    </tr>\n",
       "    <tr>\n",
       "      <th>17</th>\n",
       "      <td>Tents</td>\n",
       "      <td>6</td>\n",
       "    </tr>\n",
       "    <tr>\n",
       "      <th>18</th>\n",
       "      <td>Tools</td>\n",
       "      <td>6</td>\n",
       "    </tr>\n",
       "    <tr>\n",
       "      <th>19</th>\n",
       "      <td>Watches</td>\n",
       "      <td>5</td>\n",
       "    </tr>\n",
       "    <tr>\n",
       "      <th>20</th>\n",
       "      <td>Woods</td>\n",
       "      <td>4</td>\n",
       "    </tr>\n",
       "  </tbody>\n",
       "</table>\n",
       "</div>"
      ],
      "text/plain": [
       "         PRODUCT_TYPE_EN  AANTAL\n",
       "0             Binoculars       4\n",
       "1   Climbing Accessories       7\n",
       "2           Cooking Gear      10\n",
       "3                Eyewear       5\n",
       "4              First Aid       5\n",
       "5       Golf Accessories       4\n",
       "6      Insect Repellents       5\n",
       "7                  Irons       4\n",
       "8                 Knives       5\n",
       "9               Lanterns      12\n",
       "10            Navigation       4\n",
       "11                 Packs       6\n",
       "12               Putters       3\n",
       "13                  Rope       4\n",
       "14                Safety       4\n",
       "15         Sleeping Bags       7\n",
       "16             Sunscreen       5\n",
       "17                 Tents       6\n",
       "18                 Tools       6\n",
       "19               Watches       5\n",
       "20                 Woods       4"
      ]
     },
     "execution_count": 100,
     "metadata": {},
     "output_type": "execute_result"
    }
   ],
   "source": [
    "counttype = prodtype_product.groupby(\"PRODUCT_TYPE_EN\", as_index=False)[\"PRODUCT_NUMBER\"].count()\n",
    "counttype.rename(columns = {\"PRODUCT_NUMBER\" : \"AANTAL\"})"
   ]
  },
  {
   "cell_type": "markdown",
   "metadata": {},
   "source": [
    "Geef een overzicht met daarin per land het aantal vestigingen van klanten die zich in dat land bevinden. (2 kolommen, 21 rijen) "
   ]
  },
  {
   "cell_type": "code",
   "execution_count": null,
   "metadata": {},
   "outputs": [],
   "source": []
  },
  {
   "cell_type": "markdown",
   "metadata": {},
   "source": [
    "Geef een overzicht met daarin van de producten behorend tot het producttype ‘Cooking Gear’ per productnaam de totaal verkochte hoeveelheid en de gemiddelde verkoopprijs. Sorteer de uitkomst op totaal verkochte hoeveelheid. (4 kolommen, 10 rijen) "
   ]
  },
  {
   "cell_type": "code",
   "execution_count": null,
   "metadata": {},
   "outputs": [],
   "source": []
  },
  {
   "cell_type": "markdown",
   "metadata": {},
   "source": [
    "Geef een overzicht met daarin van de verkopers behorend tot de verkoopafdeling uit ‘Amsterdam’ de voornaam en achternaam van de verkoper en zijn laagste en hoogste verkooptarget van 2006. (4 kolommen, 4 rijen) "
   ]
  },
  {
   "cell_type": "code",
   "execution_count": null,
   "metadata": {},
   "outputs": [],
   "source": []
  },
  {
   "cell_type": "markdown",
   "metadata": {},
   "source": [
    "Geef een overzicht met daarin per land de naam van het land, de naam van de stad waar de verkoopafdeling is gevestigd (noem de kolomnaam in het overzicht ‘verkoper’) en het aantal steden waar zich klanten bevinden in dat land (noem de kolomnaam in het overzicht ‘klanten’) (3 kolommen, 29 rijen) "
   ]
  },
  {
   "cell_type": "code",
   "execution_count": null,
   "metadata": {},
   "outputs": [],
   "source": []
  },
  {
   "cell_type": "markdown",
   "metadata": {},
   "source": [
    "## Pythonvertalingen van SUBSELECT en UNION met o.a. for-loops"
   ]
  },
  {
   "cell_type": "markdown",
   "metadata": {},
   "source": [
    "Geef een overzicht met daarin de voornaam en de achternaam van de medewerkers die nog nooit wat hebben verkocht (2 kolommen, 25 rijen) "
   ]
  },
  {
   "cell_type": "code",
   "execution_count": null,
   "metadata": {},
   "outputs": [],
   "source": []
  },
  {
   "cell_type": "markdown",
   "metadata": {},
   "source": [
    "Geef een overzicht met daarin het aantal producten waarvan de marge lager is dan de gemiddelde marge van alle producten samen. Geef in het overzicht tevens aan wat de gemiddelde marge is van dit aantal producten waarvan de marge lager dan de gemiddelde marge van alle producten samen is. (1 kolom, 2 rijen) "
   ]
  },
  {
   "cell_type": "code",
   "execution_count": null,
   "metadata": {},
   "outputs": [],
   "source": []
  },
  {
   "cell_type": "markdown",
   "metadata": {},
   "source": [
    "Geef een overzicht met daarin de namen van de producten die voor meer dan 500 (verkoopprijs) zijn verkocht maar nooit zijn teruggebracht. (1 kolom, 13 rijen) "
   ]
  },
  {
   "cell_type": "code",
   "execution_count": null,
   "metadata": {},
   "outputs": [],
   "source": []
  },
  {
   "cell_type": "markdown",
   "metadata": {},
   "source": [
    "Geef een overzicht met daarin per (achternaam van) medewerker of hij/zij manager is of niet, door deze informatie toe te voegen als extra 'Ja/Nee'-kolom.<br>\n",
    "Hint: gebruik een for-loop waarin je o.a. bepaalt of het woord 'Manager' in de functie (position_en) staat. (2 kolommen, 102 rijen)."
   ]
  },
  {
   "cell_type": "code",
   "execution_count": null,
   "metadata": {},
   "outputs": [],
   "source": []
  },
  {
   "cell_type": "markdown",
   "metadata": {},
   "source": [
    "Met de onderstaande code laat je Python het huidige jaar uitrekenen."
   ]
  },
  {
   "cell_type": "code",
   "execution_count": null,
   "metadata": {},
   "outputs": [
    {
     "data": {
      "text/plain": [
       "2024"
      ]
     },
     "execution_count": 18,
     "metadata": {},
     "output_type": "execute_result"
    }
   ],
   "source": [
    "from datetime import date\n",
    "date.today().year"
   ]
  },
  {
   "cell_type": "markdown",
   "metadata": {},
   "source": [
    "Met de onderstaande code selecteer je op een bepaald jaartal uit een datum."
   ]
  },
  {
   "cell_type": "code",
   "execution_count": null,
   "metadata": {},
   "outputs": [
    {
     "data": {
      "text/plain": [
       "2013"
      ]
     },
     "execution_count": 19,
     "metadata": {},
     "output_type": "execute_result"
    }
   ],
   "source": [
    "from datetime import datetime\n",
    "\n",
    "date_str = '16-8-2013'\n",
    "date_format = '%d-%m-%Y'\n",
    "date_obj = datetime.strptime(date_str, date_format)\n",
    "\n",
    "date_obj.year"
   ]
  },
  {
   "cell_type": "markdown",
   "metadata": {},
   "source": [
    "Geef met behulp van bovenstaande hulpcode een overzicht met daarin op basis van het aantal jaar dat iemand in dienst is of een medewerker ‘kort in dienst’ (minder dan 25 jaar in dienst) of een ‘lang in dienst’ (groter gelijk dan 12 jaar in dienst) is. Geef daarbij per medewerker in een aparte kolom zowel ‘kort in dienst’ als ‘lang in dienst’ aan. Gebruik (wederom) een for-loop.<br>\n",
    "(2 kolommen, 102 rijen) "
   ]
  },
  {
   "cell_type": "code",
   "execution_count": null,
   "metadata": {},
   "outputs": [],
   "source": []
  }
 ],
 "metadata": {
  "kernelspec": {
   "display_name": "python-in-deds-P4iSP_yI-py3.11",
   "language": "python",
   "name": "python3"
  },
  "language_info": {
   "codemirror_mode": {
    "name": "ipython",
    "version": 3
   },
   "file_extension": ".py",
   "mimetype": "text/x-python",
   "name": "python",
   "nbconvert_exporter": "python",
   "pygments_lexer": "ipython3",
   "version": "3.12.2"
  }
 },
 "nbformat": 4,
 "nbformat_minor": 2
}
